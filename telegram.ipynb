{
 "cells": [
  {
   "cell_type": "code",
   "execution_count": 5,
   "metadata": {},
   "outputs": [],
   "source": [
    "# # ──────────────────────────────────────────────────────────────────────────────\n",
    "# # CELDA 0 · INSTALACIÓN DE DEPENDENCIAS\n",
    "# # '!' ejecuta en la shell desde el notebook (instalación en el kernel actual).\n",
    "# # - python-telegram-bot==21.10 → librería oficial (API asíncrona moderna).\n",
    "# # - python-dotenv → opcional si luego quieres cargar variables desde un archivo .env.\n",
    "# # El flag --upgrade asegura versión solicitada; -q baja el ruido de salida.\n",
    "# # ──────────────────────────────────────────────────────────────────────────────\n",
    "# !pip install -q --upgrade python-telegram-bot==21.10 python-dotenv==1.*\n"
   ]
  },
  {
   "cell_type": "code",
   "execution_count": 6,
   "metadata": {},
   "outputs": [
    {
     "name": "stdout",
     "output_type": "stream",
     "text": [
      "Executable: c:\\Users\\34680\\AppData\\Local\\Programs\\Python\\Python313\\python.exe\n",
      "Site-packages: ['c:\\\\Users\\\\34680\\\\AppData\\\\Local\\\\Programs\\\\Python\\\\Python313', 'c:\\\\Users\\\\34680\\\\AppData\\\\Local\\\\Programs\\\\Python\\\\Python313\\\\Lib\\\\site-packages']\n",
      "python-telegram-bot: 21.10\n",
      "Python: 3.13.2 (tags/v3.13.2:4f8bb39, Feb  4 2025, 15:23:48) [MSC v.1942 64 bit (AMD64)]\n",
      "pip: pip 25.0.1 from c:\\Users\\34680\\AppData\\Local\\Programs\\Python\\Python313\\Lib\\site-packages\\pip (python 3.13)\n",
      "\n"
     ]
    }
   ],
   "source": [
    "# ──────────────────────────────────────────────────────────────────────────────\n",
    "# CELDA 1 · VERIFICACIÓN DEL ENTORNO\n",
    "# Importamos módulos útiles para diagnosticar:\n",
    "# - sys: info del intérprete (ruta, versión).\n",
    "# - sysconfig / site: rutas donde se instalan paquetes (site-packages).\n",
    "# - telegram: probamos que la librería está instalada e importable.\n",
    "# - subprocess: para invocar 'pip --version' con el MISMO intérprete del kernel.\n",
    "# - pkgutil: utilidades sobre paquetes (no estrictamente necesario aquí).\n",
    "# ──────────────────────────────────────────────────────────────────────────────\n",
    "import sys, sysconfig, site, telegram, subprocess, pkgutil\n",
    "\n",
    "# sys.executable → ruta del binario de Python que usa este kernel.\n",
    "print(\"Executable:\", sys.executable)\n",
    "\n",
    "# site.getsitepackages() → carpetas donde pip coloca paquetes para este entorno.\n",
    "print(\"Site-packages:\", site.getsitepackages())\n",
    "\n",
    "# telegram.__version__ → versión de python-telegram-bot cargada.\n",
    "print(\"python-telegram-bot:\", telegram.__version__)\n",
    "\n",
    "# sys.version → versión exacta de Python (útil para compatibilidad).\n",
    "print(\"Python:\", sys.version)\n",
    "\n",
    "\n",
    "\n",
    "# Llamamos a 'pip --version' usando el mismo Python del kernel (evita confusiones).\n",
    "print(\"pip:\", subprocess.check_output([sys.executable, \"-m\", \"pip\", \"--version\"]).decode())\n",
    "\n",
    "# Esperado:\n",
    "# - python-telegram-bot: 21.10\n",
    "# - Python: 3.9+ (en tu caso 3.13.x)\n"
   ]
  },
  {
   "cell_type": "code",
   "execution_count": null,
   "metadata": {},
   "outputs": [
    {
     "name": "stdout",
     "output_type": "stream",
     "text": [
      "TOKEN cargado: 7864048279:AAG3icMDnrG_xPU4D6M5Z77CxtXNs27z4CY\n"
     ]
    }
   ],
   "source": [
    "\n",
    "# ──────────────────────────────────────────────────────────────────────────────\n",
    "# CELDA 2 · TOKEN DEL BOT\n",
    "# Guardamos el token de @BotFather en una variable de entorno.\n",
    "# Ventajas:\n",
    "#   - No \"quemamos\" secretos en código (mejor práctica).\n",
    "#   - Resto del código lee TOKEN desde os.environ[\"TELEGRAM_TOKEN\"].\n",
    "# Seguridad:\n",
    "#   - ⚠️ Regenera tu token si alguna vez se expuso.\n",
    "#   - No subas tokens a Git.\n",
    "# ──────────────────────────────────────────────────────────────────────────────\n",
    "import os\n",
    "\n",
    "TOKEN = \"\"  # ← Sustituye por el token NUEVO (regenerado en BotFather)\n",
    "os.environ[\"TELEGRAM_TOKEN\"] = TOKEN  # Guardamos el token en el entorno del kernel\n",
    "\n",
    "# bool(...) para comprobar que existe y no está vacío.\n",
    "print(\"TOKEN cargado:\", os.getenv(\"TELEGRAM_TOKEN\"))\n"
   ]
  },
  {
   "cell_type": "code",
   "execution_count": null,
   "metadata": {},
   "outputs": [],
   "source": [
    "# app.py\n",
    "from dotenv import load_dotenv\n",
    "import os\n",
    "from telegram.ext import ApplicationBuilder\n",
    "\n",
    "load_dotenv()\n",
    "TOKEN = os.getenv(\"TELEGRAM_TOKEN\")\n",
    "if not TOKEN:\n",
    "    raise RuntimeError(\"Falta TELEGRAM_TOKEN en .env\")\n",
    "app = ApplicationBuilder().token(TOKEN).build()\n"
   ]
  },
  {
   "cell_type": "code",
   "execution_count": null,
   "metadata": {},
   "outputs": [],
   "source": []
  },
  {
   "cell_type": "code",
   "execution_count": null,
   "metadata": {},
   "outputs": [],
   "source": []
  },
  {
   "cell_type": "code",
   "execution_count": 8,
   "metadata": {},
   "outputs": [
    {
     "name": "stderr",
     "output_type": "stream",
     "text": [
      "INFO:httpx:HTTP Request: POST https://api.telegram.org/bot7864048279:AAG3icMDnrG_xPU4D6M5Z77CxtXNs27z4CY/getMe \"HTTP/1.1 200 OK\"\n",
      "INFO:httpx:HTTP Request: POST https://api.telegram.org/bot7864048279:AAG3icMDnrG_xPU4D6M5Z77CxtXNs27z4CY/getMe \"HTTP/1.1 200 OK\"\n"
     ]
    },
    {
     "name": "stdout",
     "output_type": "stream",
     "text": [
      "Bot OK ✅\n",
      "id: 7864048279 | username: @Revoquexbot | name: Xulzaz9bot\n"
     ]
    }
   ],
   "source": [
    "# ──────────────────────────────────────────────────────────────────────────────\n",
    "# CELDA 3 · PRUEBA DEL TOKEN (getMe)\n",
    "# Creamos una Application mínima SOLO para verificar el token mediante bot.get_me().\n",
    "# Como la librería usa asyncio, necesitamos:\n",
    "#   - await app.initialize() para preparar la app.\n",
    "#   - await app.bot.get_me() para consultar datos del bot a Telegram.\n",
    "#   - await app.shutdown() para liberar recursos.\n",
    "# En notebooks ya existe un event loop → usamos create_task si es posible.\n",
    "# ──────────────────────────────────────────────────────────────────────────────\n",
    "import asyncio\n",
    "from telegram.ext import Application\n",
    "import os\n",
    "\n",
    "async def check_token():\n",
    "    # Builder pattern: inyectamos el token desde el entorno.\n",
    "    app = Application.builder().token(os.environ[\"TELEGRAM_TOKEN\"]).build()\n",
    "    await app.initialize()         # Inicializa recursos internos de la app/bot.\n",
    "    me = await app.bot.get_me()    # Llamada a la API de Telegram para obtener info del bot.\n",
    "    print(\"Bot OK ✅\")\n",
    "    print(\"id:\", me.id, \"| username:\", f\"@{me.username}\", \"| name:\", me.first_name)\n",
    "    await app.shutdown()           # Cerramos para no dejar recursos abiertos.\n",
    "\n",
    "try:\n",
    "    # Si hay event loop activo (notebook), lanzamos la coroutine como tarea.\n",
    "    asyncio.get_running_loop()\n",
    "    _ = asyncio.create_task(check_token())\n",
    "except RuntimeError:\n",
    "    # Si no hay loop (script .py), ejecutamos la coroutine directamente.\n",
    "    asyncio.run(check_token())\n"
   ]
  },
  {
   "cell_type": "code",
   "execution_count": null,
   "metadata": {},
   "outputs": [],
   "source": [
    "import logging, os\n",
    "from telegram.ext import Application\n",
    "from telegram.ext import CommandHandler\n",
    "\n",
    "# Celda 4 · APP Y HANDLERS BÁSICOS — Explicación línea por línea\n",
    "\n",
    "# 1) Configuración básica\n",
    "# - se configura el logging para ver info útil durante la ejecución.\n",
    "# - TOKEN se lee desde las variables de entorno (fue puesto en la Celda 2).\n",
    "# - assert asegura que haya token, si falta se detiene aquí.\n",
    "logging.basicConfig(level=logging.INFO)\n",
    "TOKEN = os.getenv(\"TELEGRAM_TOKEN\")\n",
    "assert TOKEN, \"Falta TELEGRAM_TOKEN en el entorno (vuelve a la Celda 2)\"\n",
    "\n",
    "# 2) Definición de handlers (funciones que responden a comandos)\n",
    "# - Son funciones async porque python-telegram-bot v20+ usa asyncio.\n",
    "# - start: responde al comando /start con un saludo personalizado.\n",
    "# - help_cmd: responde al comando /help con un texto corto.\n",
    "# 'update' contiene el mensaje y el usuario; 'context' contiene utilidades del bot.\n",
    "async def start(update, context):\n",
    "    await update.message.reply_text(f\"Hola {update.effective_user.first_name} 👋 ¡Bot en marcha!\")\n",
    "\n",
    "async def help_cmd(update, context):\n",
    "    await update.message.reply_text(\"/start • /help\")\n",
    "\n",
    "# 3) Creación de la Application (núcleo del bot)\n",
    "# - Application.builder().token(TOKEN).build() crea el objeto 'app' que gestiona\n",
    "#   dispatcher, handlers, job_queue, sesiones HTTP, etc.\n",
    "app = Application.builder().token(TOKEN).build()\n",
    "\n",
    "# 4) Registro de handlers\n",
    "# - CommandHandler(\"start\", start) → cuando llegue /start se ejecuta start()\n",
    "# - CommandHandler(\"help\", help_cmd) → cuando llegue /help se ejecuta help_cmd()\n",
    "app.add_handler(CommandHandler(\"start\", start))\n",
    "app.add_handler(CommandHandler(\"help\", help_cmd))\n",
    "\n",
    "# 5) Nota final\n",
    "# - La Celda 4 solo define y registra handlers; no arranca el bot.\n",
    "#   Para ponerlo en marcha hay que iniciar polling o configurar webhook\n",
    "#   (en este notebook se arranca polling en la Celda 5).\n",
    "print(\"✅ App creada y handlers registrados.\")"
   ]
  },
  {
   "cell_type": "code",
   "execution_count": 10,
   "metadata": {},
   "outputs": [],
   "source": [
    "# ──────────────────────────────────────────────────────────────────────────────\n",
    "# CELDA 5 · ARRANCAR POLLING\n",
    "# Polling = el bot consulta periódicamente a Telegram por nuevos updates.\n",
    "# En un notebook:\n",
    "#   - Ya hay un event loop (asyncio) corriendo.\n",
    "#   - Lanzamos el bot como \"tarea de fondo\" (create_task) y lo dejamos escuchando.\n",
    "# Importante:\n",
    "#   - Webhook y polling SON EXCLUYENTES. Si tenías webhook activo, bórralo.\n",
    "#   - Mantenemos un 'polling_task' global para poder detenerlo después.\n",
    "# ──────────────────────────────────────────────────────────────────────────────\n",
    "import asyncio\n",
    "\n",
    "polling_task = None  # Referencia global a la tarea en ejecución (si la hay)\n",
    "\n",
    "async def _run_polling():\n",
    "    # 1) Inicializa componentes internos (dispatcher, bot, etc.)\n",
    "    await app.initialize()\n",
    "\n",
    "    # 2) Elimina webhook si existiera (evita '409 Conflict' con getUpdates).\n",
    "    try:\n",
    "        # drop_pending_updates=True → descarta updates encolados en el servidor.\n",
    "        await app.bot.delete_webhook(drop_pending_updates=True)\n",
    "    except Exception:\n",
    "        # Si no había webhook, ignoramos cualquier fallo aquí.\n",
    "        pass\n",
    "\n",
    "    # 3) Arranca la Application (abre conexiones, empieza job_queue si existiera, etc.)\n",
    "    await app.start()\n",
    "\n",
    "    # 4) Empieza el polling (la librería abrirá un loop interno para getUpdates).\n",
    "    await app.updater.start_polling()\n",
    "\n",
    "    print(\"🤖 Bot en polling… (usa la Celda 6 para detener)\")\n",
    "\n",
    "    # 5) Mantenemos viva la coroutine con un \"latido\" sencillo.\n",
    "    #    En un script, no haría falta; en notebooks, previene que la rutina finalice.\n",
    "    while True:\n",
    "        await asyncio.sleep(5)\n",
    "\n",
    "# Ejecutamos la coroutine según el contexto:\n",
    "try:\n",
    "    # Si el kernel ya tiene loop, creamos una tarea en ese loop (no bloquea el notebook).\n",
    "    loop = asyncio.get_running_loop()\n",
    "    polling_task = loop.create_task(_run_polling())\n",
    "except RuntimeError:\n",
    "    # Si no hay loop (script .py), ejecutamos de forma síncrona (bloqueante).\n",
    "    asyncio.run(_run_polling())\n",
    "\n",
    "# Esperado:\n",
    "# - Ver el mensaje \"🤖 Bot en polling…\"\n",
    "# - En Telegram, /start y /help deben responder.\n"
   ]
  },
  {
   "cell_type": "code",
   "execution_count": 11,
   "metadata": {},
   "outputs": [
    {
     "name": "stdout",
     "output_type": "stream",
     "text": [
      "Deteniendo polling…\n",
      "Bot detenido ✅\n"
     ]
    }
   ],
   "source": [
    "# ──────────────────────────────────────────────────────────────────────────────\n",
    "# CELDA 6 · DETENER POLLING\n",
    "# Buenas prácticas antes de re-ejecutar la Celda 5:\n",
    "#   - Cancelar la tarea asíncrona si sigue viva (polling_task.cancel()).\n",
    "#   - Llamar a stop/shutdown para cerrar conexiones de forma ordenada.\n",
    "# Notas:\n",
    "#   - En Jupyter, si re-ejecutas Celda 5 sin parar antes, puedes crear tareas\n",
    "#     duplicadas y/o ver errores de conflicto con getUpdates.\n",
    "# ──────────────────────────────────────────────────────────────────────────────\n",
    "import contextlib\n",
    "import asyncio\n",
    "\n",
    "async def _stop_polling():\n",
    "    print(\"Deteniendo polling…\")\n",
    "    # app.updater.stop() → detiene las peticiones de getUpdates (polling).\n",
    "    # app.stop() → detiene la aplicación (cierra bot internamente).\n",
    "    # app.shutdown() → libera recursos (dispatcher, session, etc.).\n",
    "    with contextlib.suppress(Exception):  # si ya estaba parado, no queremos stacktrace\n",
    "        await app.updater.stop()\n",
    "        await app.stop()\n",
    "        await app.shutdown()\n",
    "    print(\"Bot detenido ✅\")\n",
    "\n",
    "try:\n",
    "    # Si existe una tarea de polling en ejecución y no ha terminado → cancélala.\n",
    "    if 'polling_task' in globals() and polling_task and not polling_task.done():\n",
    "        polling_task.cancel()\n",
    "\n",
    "    # Ejecuta la parada según haya event loop (notebook) o no (script).\n",
    "    try:\n",
    "        asyncio.get_running_loop()\n",
    "        asyncio.create_task(_stop_polling())   # en notebook, lanzar como tarea\n",
    "    except RuntimeError:\n",
    "        asyncio.run(_stop_polling())           # en script, ejecutar directamente\n",
    "except NameError:\n",
    "    # Si 'polling_task' no existe (no arrancaste Celda 5), informamos.\n",
    "    print(\"No hay polling activo.\")\n"
   ]
  }
 ],
 "metadata": {
  "kernelspec": {
   "display_name": "Python 3",
   "language": "python",
   "name": "python3"
  },
  "language_info": {
   "codemirror_mode": {
    "name": "ipython",
    "version": 3
   },
   "file_extension": ".py",
   "mimetype": "text/x-python",
   "name": "python",
   "nbconvert_exporter": "python",
   "pygments_lexer": "ipython3",
   "version": "3.13.2"
  }
 },
 "nbformat": 4,
 "nbformat_minor": 2
}
