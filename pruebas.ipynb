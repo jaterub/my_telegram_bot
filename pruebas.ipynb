{
 "cells": [
  {
   "cell_type": "code",
   "execution_count": 2,
   "id": "54ff58b4",
   "metadata": {},
   "outputs": [
    {
     "name": "stdout",
     "output_type": "stream",
     "text": [
      "HOST: https://dbc-54859cf0-9d64.cloud.databricks.com\n",
      "STATUS: 200 | OK?: True\n",
      "{\"versions\":[{\"key\":\"16.3.x-photon-scala2.12\",\"name\":\"16.3 Photon (includes Apache Spark 3.5.2, Scala 2.12)\"},{\"key\":\"12.2.x-scala2.12\",\"name\":\"12.2 LTS (includes Apache Spark 3.3.2, Scala 2.12)\"},{\"key\":\"11.3.x-photon-scala2.12\",\"name\":\"11.3 LTS Photon (includes Apache Spark 3.3.0, Scala 2.12)\"},{\"key\":\"16.4.x-cpu-ml-scala2.12\",\"name\":\"16.4 LTS ML (includes Apache Spark 3.5.2, Scala 2.12)\"},{\"key\":\"17.2.x-scala2.13\",\"name\":\"17.2 Beta (includes Apache Spark 4.0.0, Scala 2.13)\"},{\"key\":\"17.1.x-cp\n"
     ]
    }
   ],
   "source": [
    "import os, requests\n",
    "from dotenv import load_dotenv\n",
    "\n",
    "# Carga .env para esta ejecución\n",
    "load_dotenv()\n",
    "\n",
    "HOST = (os.getenv(\"DATABRICKS_HOST\") or \"\").rstrip(\"/\")\n",
    "TOKEN = os.getenv(\"DATABRICKS_TOKEN\") or \"\"\n",
    "\n",
    "ORG_ID = \"4044162781254195\"  # opcional; si no te funciona, quítalo\n",
    "\n",
    "r = requests.get(\n",
    "    f\"{HOST}/api/2.0/clusters/spark-versions\",\n",
    "    headers={\"Authorization\": f\"Bearer {TOKEN}\", \"X-Databricks-Org-Id\": ORG_ID},\n",
    "    timeout=10,\n",
    ")\n",
    "\n",
    "print(\"HOST:\", HOST)\n",
    "print(\"STATUS:\", r.status_code, \"| OK?:\", r.ok)\n",
    "print(r.text[:500])\n"
   ]
  },
  {
   "cell_type": "code",
   "execution_count": 1,
   "id": "9b317cab",
   "metadata": {},
   "outputs": [
    {
     "ename": "HTTPError",
     "evalue": "400 Client Error: Bad Request for url: https://dbc-54859cf0-9d64.cloud.databricks.com/api/2.2/jobs/run-now",
     "output_type": "error",
     "traceback": [
      "\u001b[1;31m---------------------------------------------------------------------------\u001b[0m",
      "\u001b[1;31mHTTPError\u001b[0m                                 Traceback (most recent call last)",
      "Cell \u001b[1;32mIn[1], line 19\u001b[0m\n\u001b[0;32m     11\u001b[0m b64  \u001b[38;5;241m=\u001b[39m base64\u001b[38;5;241m.\u001b[39mb64encode(csv\u001b[38;5;241m.\u001b[39mencode(\u001b[38;5;124m\"\u001b[39m\u001b[38;5;124mutf-8\u001b[39m\u001b[38;5;124m\"\u001b[39m))\u001b[38;5;241m.\u001b[39mdecode(\u001b[38;5;124m\"\u001b[39m\u001b[38;5;124mutf-8\u001b[39m\u001b[38;5;124m\"\u001b[39m)\n\u001b[0;32m     13\u001b[0m r \u001b[38;5;241m=\u001b[39m requests\u001b[38;5;241m.\u001b[39mpost(\n\u001b[0;32m     14\u001b[0m     \u001b[38;5;124mf\u001b[39m\u001b[38;5;124m\"\u001b[39m\u001b[38;5;132;01m{\u001b[39;00mHOST\u001b[38;5;132;01m}\u001b[39;00m\u001b[38;5;124m/api/2.2/jobs/run-now\u001b[39m\u001b[38;5;124m\"\u001b[39m,\n\u001b[0;32m     15\u001b[0m     headers\u001b[38;5;241m=\u001b[39m{\u001b[38;5;124m\"\u001b[39m\u001b[38;5;124mAuthorization\u001b[39m\u001b[38;5;124m\"\u001b[39m: \u001b[38;5;124mf\u001b[39m\u001b[38;5;124m\"\u001b[39m\u001b[38;5;124mBearer \u001b[39m\u001b[38;5;132;01m{\u001b[39;00mTOKEN\u001b[38;5;132;01m}\u001b[39;00m\u001b[38;5;124m\"\u001b[39m, \u001b[38;5;124m\"\u001b[39m\u001b[38;5;124mContent-Type\u001b[39m\u001b[38;5;124m\"\u001b[39m: \u001b[38;5;124m\"\u001b[39m\u001b[38;5;124mapplication/json\u001b[39m\u001b[38;5;124m\"\u001b[39m},\n\u001b[0;32m     16\u001b[0m     json\u001b[38;5;241m=\u001b[39m{\u001b[38;5;124m\"\u001b[39m\u001b[38;5;124mjob_id\u001b[39m\u001b[38;5;124m\"\u001b[39m: JOBID, \u001b[38;5;124m\"\u001b[39m\u001b[38;5;124mnotebook_params\u001b[39m\u001b[38;5;124m\"\u001b[39m: {\u001b[38;5;124m\"\u001b[39m\u001b[38;5;124mcsv_b64\u001b[39m\u001b[38;5;124m\"\u001b[39m: b64, \u001b[38;5;124m\"\u001b[39m\u001b[38;5;124mfile_name\u001b[39m\u001b[38;5;124m\"\u001b[39m: \u001b[38;5;124m\"\u001b[39m\u001b[38;5;124mmini.csv\u001b[39m\u001b[38;5;124m\"\u001b[39m}},\n\u001b[0;32m     17\u001b[0m     timeout\u001b[38;5;241m=\u001b[39m\u001b[38;5;241m30\u001b[39m,\n\u001b[0;32m     18\u001b[0m )\n\u001b[1;32m---> 19\u001b[0m \u001b[43mr\u001b[49m\u001b[38;5;241;43m.\u001b[39;49m\u001b[43mraise_for_status\u001b[49m\u001b[43m(\u001b[49m\u001b[43m)\u001b[49m\n\u001b[0;32m     20\u001b[0m \u001b[38;5;28mprint\u001b[39m(\u001b[38;5;124m\"\u001b[39m\u001b[38;5;124mRUN:\u001b[39m\u001b[38;5;124m\"\u001b[39m, r\u001b[38;5;241m.\u001b[39mjson())\n",
      "File \u001b[1;32mc:\\Users\\34680\\AppData\\Local\\Programs\\Python\\Python313\\Lib\\site-packages\\requests\\models.py:1024\u001b[0m, in \u001b[0;36mResponse.raise_for_status\u001b[1;34m(self)\u001b[0m\n\u001b[0;32m   1019\u001b[0m     http_error_msg \u001b[38;5;241m=\u001b[39m (\n\u001b[0;32m   1020\u001b[0m         \u001b[38;5;124mf\u001b[39m\u001b[38;5;124m\"\u001b[39m\u001b[38;5;132;01m{\u001b[39;00m\u001b[38;5;28mself\u001b[39m\u001b[38;5;241m.\u001b[39mstatus_code\u001b[38;5;132;01m}\u001b[39;00m\u001b[38;5;124m Server Error: \u001b[39m\u001b[38;5;132;01m{\u001b[39;00mreason\u001b[38;5;132;01m}\u001b[39;00m\u001b[38;5;124m for url: \u001b[39m\u001b[38;5;132;01m{\u001b[39;00m\u001b[38;5;28mself\u001b[39m\u001b[38;5;241m.\u001b[39murl\u001b[38;5;132;01m}\u001b[39;00m\u001b[38;5;124m\"\u001b[39m\n\u001b[0;32m   1021\u001b[0m     )\n\u001b[0;32m   1023\u001b[0m \u001b[38;5;28;01mif\u001b[39;00m http_error_msg:\n\u001b[1;32m-> 1024\u001b[0m     \u001b[38;5;28;01mraise\u001b[39;00m HTTPError(http_error_msg, response\u001b[38;5;241m=\u001b[39m\u001b[38;5;28mself\u001b[39m)\n",
      "\u001b[1;31mHTTPError\u001b[0m: 400 Client Error: Bad Request for url: https://dbc-54859cf0-9d64.cloud.databricks.com/api/2.2/jobs/run-now"
     ]
    }
   ],
   "source": [
    "# scripts/dbx_run_now_b64.py\n",
    "import os, base64, requests\n",
    "from dotenv import load_dotenv\n",
    "\n",
    "load_dotenv()\n",
    "HOST  = (os.getenv(\"DATABRICKS_HOST\") or \"\").rstrip(\"/\")\n",
    "TOKEN = os.getenv(\"DATABRICKS_TOKEN\") or \"\"\n",
    "JOBID = int(os.getenv(\"DATABRICKS_JOB_ID_AUDIT\", \"0\"))\n",
    "\n",
    "csv = \"tx_id,date,account,debit,credit,desc\\n1,2025-01-01,430,100,0,venta\\n1,2025-01-01,700,0,100,venta contrapartida\\n2,2025-13-05,430,50,0,fecha invalida\\n\"\n",
    "b64  = base64.b64encode(csv.encode(\"utf-8\")).decode(\"utf-8\")\n",
    "\n",
    "r = requests.post(\n",
    "    f\"{HOST}/api/2.2/jobs/run-now\",\n",
    "    headers={\"Authorization\": f\"Bearer {TOKEN}\", \"Content-Type\": \"application/json\"},\n",
    "    json={\"job_id\": JOBID, \"notebook_params\": {\"csv_b64\": b64, \"file_name\": \"mini.csv\"}},\n",
    "    timeout=30,\n",
    ")\n",
    "r.raise_for_status()\n",
    "print(\"RUN:\", r.json())\n"
   ]
  }
 ],
 "metadata": {
  "kernelspec": {
   "display_name": "Python 3",
   "language": "python",
   "name": "python3"
  },
  "language_info": {
   "codemirror_mode": {
    "name": "ipython",
    "version": 3
   },
   "file_extension": ".py",
   "mimetype": "text/x-python",
   "name": "python",
   "nbconvert_exporter": "python",
   "pygments_lexer": "ipython3",
   "version": "3.13.2"
  }
 },
 "nbformat": 4,
 "nbformat_minor": 5
}
