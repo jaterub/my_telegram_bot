{
 "cells": [
  {
   "cell_type": "code",
   "execution_count": 2,
   "id": "54ff58b4",
   "metadata": {},
   "outputs": [
    {
     "name": "stdout",
     "output_type": "stream",
     "text": [
      "HOST: https://dbc-54859cf0-9d64.cloud.databricks.com\n",
      "STATUS: 200 | OK?: True\n",
      "{\"versions\":[{\"key\":\"16.3.x-photon-scala2.12\",\"name\":\"16.3 Photon (includes Apache Spark 3.5.2, Scala 2.12)\"},{\"key\":\"12.2.x-scala2.12\",\"name\":\"12.2 LTS (includes Apache Spark 3.3.2, Scala 2.12)\"},{\"key\":\"11.3.x-photon-scala2.12\",\"name\":\"11.3 LTS Photon (includes Apache Spark 3.3.0, Scala 2.12)\"},{\"key\":\"16.4.x-cpu-ml-scala2.12\",\"name\":\"16.4 LTS ML (includes Apache Spark 3.5.2, Scala 2.12)\"},{\"key\":\"17.2.x-scala2.13\",\"name\":\"17.2 Beta (includes Apache Spark 4.0.0, Scala 2.13)\"},{\"key\":\"17.1.x-cp\n"
     ]
    }
   ],
   "source": [
    "import os, requests\n",
    "from dotenv import load_dotenv\n",
    "\n",
    "# Carga .env para esta ejecución\n",
    "load_dotenv()\n",
    "\n",
    "HOST = (os.getenv(\"DATABRICKS_HOST\") or \"\").rstrip(\"/\")\n",
    "TOKEN = os.getenv(\"DATABRICKS_TOKEN\") or \"\"\n",
    "\n",
    "ORG_ID = \"4044162781254195\"  # opcional; si no te funciona, quítalo\n",
    "\n",
    "r = requests.get(\n",
    "    f\"{HOST}/api/2.0/clusters/spark-versions\",\n",
    "    headers={\"Authorization\": f\"Bearer {TOKEN}\", \"X-Databricks-Org-Id\": ORG_ID},\n",
    "    timeout=10,\n",
    ")\n",
    "\n",
    "print(\"HOST:\", HOST)\n",
    "print(\"STATUS:\", r.status_code, \"| OK?:\", r.ok)\n",
    "print(r.text[:500])\n"
   ]
  }
 ],
 "metadata": {
  "kernelspec": {
   "display_name": "Python 3",
   "language": "python",
   "name": "python3"
  },
  "language_info": {
   "codemirror_mode": {
    "name": "ipython",
    "version": 3
   },
   "file_extension": ".py",
   "mimetype": "text/x-python",
   "name": "python",
   "nbconvert_exporter": "python",
   "pygments_lexer": "ipython3",
   "version": "3.13.2"
  }
 },
 "nbformat": 4,
 "nbformat_minor": 5
}
